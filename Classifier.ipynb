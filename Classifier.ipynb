{
  "nbformat": 4,
  "nbformat_minor": 0,
  "metadata": {
    "colab": {
      "name": "Classifier.ipynb",
      "version": "0.3.2",
      "provenance": [],
      "collapsed_sections": []
    },
    "kernelspec": {
      "name": "python3",
      "display_name": "Python 3"
    },
    "accelerator": "GPU"
  },
  "cells": [
    {
      "cell_type": "code",
      "metadata": {
        "id": "kdAjeUaQbzcg",
        "colab_type": "code",
        "outputId": "1f784711-5c7f-440e-fa13-2f838a13992b",
        "colab": {
          "base_uri": "https://localhost:8080/",
          "height": 166
        }
      },
      "source": [
        "!pip install keras-metrics"
      ],
      "execution_count": 0,
      "outputs": [
        {
          "output_type": "stream",
          "text": [
            "Requirement already satisfied: keras-metrics in /usr/local/lib/python3.6/dist-packages (1.1.0)\n",
            "Requirement already satisfied: Keras>=2.1.5 in /usr/local/lib/python3.6/dist-packages (from keras-metrics) (2.2.4)\n",
            "Requirement already satisfied: scipy>=0.14 in /usr/local/lib/python3.6/dist-packages (from Keras>=2.1.5->keras-metrics) (1.3.0)\n",
            "Requirement already satisfied: pyyaml in /usr/local/lib/python3.6/dist-packages (from Keras>=2.1.5->keras-metrics) (3.13)\n",
            "Requirement already satisfied: keras-preprocessing>=1.0.5 in /usr/local/lib/python3.6/dist-packages (from Keras>=2.1.5->keras-metrics) (1.0.9)\n",
            "Requirement already satisfied: numpy>=1.9.1 in /usr/local/lib/python3.6/dist-packages (from Keras>=2.1.5->keras-metrics) (1.16.4)\n",
            "Requirement already satisfied: six>=1.9.0 in /usr/local/lib/python3.6/dist-packages (from Keras>=2.1.5->keras-metrics) (1.12.0)\n",
            "Requirement already satisfied: h5py in /usr/local/lib/python3.6/dist-packages (from Keras>=2.1.5->keras-metrics) (2.8.0)\n",
            "Requirement already satisfied: keras-applications>=1.0.6 in /usr/local/lib/python3.6/dist-packages (from Keras>=2.1.5->keras-metrics) (1.0.7)\n"
          ],
          "name": "stdout"
        }
      ]
    },
    {
      "cell_type": "code",
      "metadata": {
        "id": "3BfO_Arwkse5",
        "colab_type": "code",
        "outputId": "1008709f-7474-4be9-ab13-f6ae608f37be",
        "colab": {
          "base_uri": "https://localhost:8080/",
          "height": 50
        }
      },
      "source": [
        "# for plotting and looking at images\n",
        "from matplotlib.pyplot import imshow\n",
        "import matplotlib.pyplot as plt\n",
        "%matplotlib inline\n",
        "\n",
        "# data manipulation and handling\n",
        "import numpy as np\n",
        "import pandas as pd\n",
        "import os\n",
        "import pickle\n",
        "\n",
        "# \n",
        "from sklearn.metrics import confusion_matrix\n",
        "import itertools\n",
        "\n",
        "import keras\n",
        "from keras.models import Sequential\n",
        "from keras.layers import Dense, Dropout, Flatten, Conv2D, MaxPool2D\n",
        "from keras import backend as K\n",
        "from keras.layers.normalization import BatchNormalization\n",
        "from keras.optimizers import Adam, SGD\n",
        "from keras.preprocessing.image import ImageDataGenerator\n",
        "from keras.callbacks import ReduceLROnPlateau\n",
        "import keras_metrics as km\n",
        "\n",
        "# mount colab\n",
        "from google.colab import drive\n",
        "drive.mount('/content/drive')"
      ],
      "execution_count": 0,
      "outputs": [
        {
          "output_type": "stream",
          "text": [
            "Using TensorFlow backend.\n"
          ],
          "name": "stderr"
        },
        {
          "output_type": "stream",
          "text": [
            "Drive already mounted at /content/drive; to attempt to forcibly remount, call drive.mount(\"/content/drive\", force_remount=True).\n"
          ],
          "name": "stdout"
        }
      ]
    },
    {
      "cell_type": "code",
      "metadata": {
        "id": "4CL6Eo9KksfA",
        "colab_type": "code",
        "outputId": "f9ce4d67-5c73-45ea-a04e-867f91202898",
        "colab": {
          "base_uri": "https://localhost:8080/",
          "height": 133
        }
      },
      "source": [
        "# data paths\n",
        "path = r'/content/drive/My Drive/Colab Notebooks/datasets/ProcessedImages'\n",
        "dnm = lambda x: 'segmented' if int(x) < 5 else 'resized'\n",
        "\n",
        "# setup to control history here\n",
        "scenario = '3a'\n",
        "hist_path = r'/content/drive/My Drive/Colab Notebooks/models/classifiers/history_{}.pkl'.format(scenario)\n",
        "model_path = r'/content/drive/My Drive/Colab Notebooks/models/classifiers/classifier_{}.h5'.format(scenario)\n",
        "\n",
        "# get the dataset name\n",
        "dataset_nm = dnm(scenario[:scenario.index('a')])\n",
        "\n",
        "# read the datasets\n",
        "arrnms = ['Xtrain', 'Ytrain', 'Xvalid', 'Yvalid', 'Xtest', 'Ytest']\n",
        "datasets = dict()\n",
        "print('Getting the {} data for training and testing'.format(dataset_nm))\n",
        "for nm in arrnms:\n",
        "    datasets[nm] = np.load(os.path.join(path, dataset_nm + '_' + nm + '.npy'))\n",
        "    print(nm, datasets[nm].shape)"
      ],
      "execution_count": 0,
      "outputs": [
        {
          "output_type": "stream",
          "text": [
            "Getting the segmented data for training and testing\n",
            "Xtrain (6009, 128, 128, 3)\n",
            "Ytrain (6009,)\n",
            "Xvalid (2003, 128, 128, 3)\n",
            "Yvalid (2003,)\n",
            "Xtest (2003, 128, 128, 3)\n",
            "Ytest (2003,)\n"
          ],
          "name": "stdout"
        }
      ]
    },
    {
      "cell_type": "code",
      "metadata": {
        "id": "SwVHf8pF7x_C",
        "colab_type": "code",
        "outputId": "47c8f14a-372d-47bf-e797-b055deffb03c",
        "colab": {
          "base_uri": "https://localhost:8080/",
          "height": 66
        }
      },
      "source": [
        "# Define the different hyperparameters and then apply based on the scenario\n",
        "adam = Adam(lr=0.001, beta_1=0.9, beta_2=0.999, epsilon=None, decay=0.0, amsgrad=False)\n",
        "sgd = SGD(lr=0.001)\n",
        "\n",
        "learning_rate_reduction = ReduceLROnPlateau(monitor='val_loss',\n",
        "                                            factor=0.1,\n",
        "                                            patience=3,\n",
        "                                            verbose=1,\n",
        "                                            mode='auto',\n",
        "                                            min_delta=0.0001,\n",
        "                                            cooldown=0, min_lr=0)\n",
        "\n",
        "# setup model parameters and run based on the scenario name\n",
        "model_params = {\n",
        "    '1a': dict(optimizer=sgd, lrr=None, batch_size=16, epochs=10),\n",
        "    '2a': dict(optimizer=sgd, lrr=[learning_rate_reduction], batch_size=16, epochs=10),\n",
        "    '3a': dict(optimizer=adam, lrr=None, batch_size=16, epochs=10),\n",
        "    '4a': dict(optimizer=adam, lrr=[learning_rate_reduction], batch_size=16, epochs=10),\n",
        "    '5a': dict(optimizer=sgd, lrr=None, batch_size=16, epochs=10),\n",
        "    '6a': dict(optimizer=sgd, lrr=[learning_rate_reduction], batch_size=16, epochs=10),\n",
        "    '8a': dict(optimizer=adam, lrr=None, batch_size=16, epochs=10),\n",
        "    '9a': dict(optimizer=adam, lrr=[learning_rate_reduction], batch_size=16, epochs=10),\n",
        "    '10a': dict(optimizer=sgd, lrr=None, batch_size=16, epochs=30),\n",
        "    '11a': dict(optimizer=sgd, lrr=[learning_rate_reduction], batch_size=16, epochs=50)\n",
        "}"
      ],
      "execution_count": 0,
      "outputs": [
        {
          "output_type": "stream",
          "text": [
            "WARNING:tensorflow:From /usr/local/lib/python3.6/dist-packages/tensorflow/python/framework/op_def_library.py:263: colocate_with (from tensorflow.python.framework.ops) is deprecated and will be removed in a future version.\n",
            "Instructions for updating:\n",
            "Colocations handled automatically by placer.\n"
          ],
          "name": "stdout"
        }
      ]
    },
    {
      "cell_type": "code",
      "metadata": {
        "id": "32G7pCgpksgA",
        "colab_type": "code",
        "outputId": "c6951046-9491-4f68-9d81-193b06413d71",
        "colab": {
          "base_uri": "https://localhost:8080/",
          "height": 50
        }
      },
      "source": [
        "# how many of each class in our training set?\n",
        "num_mel = datasets['Ytrain'].sum()\n",
        "num_samples = len(datasets['Ytrain'])\n",
        "weight = (num_samples-num_mel) / float(num_mel)\n",
        "print('Class weight is {:.2f}'.format(weight))\n",
        "print('Melanoma samples: {:.0f}, Non-melanoma samples: {:.0f}, Balanced: {:.0f}'.format(num_mel, num_samples-num_mel, weight*num_mel))\n",
        "class_weight = {0:1.0, 1:weight}"
      ],
      "execution_count": 0,
      "outputs": [
        {
          "output_type": "stream",
          "text": [
            "Class weight is 7.92\n",
            "Melanoma samples: 674, Non-melanoma samples: 5335, Balanced: 5335\n"
          ],
          "name": "stdout"
        }
      ]
    },
    {
      "cell_type": "code",
      "metadata": {
        "id": "rjzF6Ei3ksgR",
        "colab_type": "code",
        "outputId": "c6396f83-3f17-4bc2-a950-8b0247f5acc8",
        "colab": {
          "base_uri": "https://localhost:8080/",
          "height": 583
        }
      },
      "source": [
        "# Set the CNN model \n",
        "# my CNN architechture is In -> [[Conv2D->relu]*2 -> MaxPool2D -> Dropout]*2 -> Flatten -> Dense -> Dropout -> Out\n",
        "input_shape = (128, 128, 3)\n",
        "\n",
        "model = Sequential()\n",
        "\n",
        "# Block one - does blah, blah\n",
        "model.add(Conv2D(32, kernel_size=(3, 3), activation='relu',padding = 'Same', input_shape=input_shape))\n",
        "model.add(Conv2D(32, kernel_size=(3, 3), activation='relu',padding = 'Same',))\n",
        "model.add(MaxPool2D(pool_size = (2, 2)))\n",
        "model.add(Dropout(0.25))\n",
        "\n",
        "# Block two\n",
        "model.add(Conv2D(64, (3, 3), activation='relu',padding = 'Same'))\n",
        "model.add(Conv2D(64, (3, 3), activation='relu',padding = 'Same'))\n",
        "model.add(MaxPool2D(pool_size=(2, 2)))\n",
        "model.add(Dropout(0.4))\n",
        "\n",
        "# Block three\n",
        "model.add(Flatten())\n",
        "model.add(Dense(128, activation='relu'))\n",
        "model.add(Dropout(0.5))\n",
        "model.add(Dense(1, activation='sigmoid'))\n",
        "model.summary()"
      ],
      "execution_count": 0,
      "outputs": [
        {
          "output_type": "stream",
          "text": [
            "WARNING:tensorflow:From /usr/local/lib/python3.6/dist-packages/keras/backend/tensorflow_backend.py:3445: calling dropout (from tensorflow.python.ops.nn_ops) with keep_prob is deprecated and will be removed in a future version.\n",
            "Instructions for updating:\n",
            "Please use `rate` instead of `keep_prob`. Rate should be set to `rate = 1 - keep_prob`.\n",
            "_________________________________________________________________\n",
            "Layer (type)                 Output Shape              Param #   \n",
            "=================================================================\n",
            "conv2d_1 (Conv2D)            (None, 128, 128, 32)      896       \n",
            "_________________________________________________________________\n",
            "conv2d_2 (Conv2D)            (None, 128, 128, 32)      9248      \n",
            "_________________________________________________________________\n",
            "max_pooling2d_1 (MaxPooling2 (None, 64, 64, 32)        0         \n",
            "_________________________________________________________________\n",
            "dropout_1 (Dropout)          (None, 64, 64, 32)        0         \n",
            "_________________________________________________________________\n",
            "conv2d_3 (Conv2D)            (None, 64, 64, 64)        18496     \n",
            "_________________________________________________________________\n",
            "conv2d_4 (Conv2D)            (None, 64, 64, 64)        36928     \n",
            "_________________________________________________________________\n",
            "max_pooling2d_2 (MaxPooling2 (None, 32, 32, 64)        0         \n",
            "_________________________________________________________________\n",
            "dropout_2 (Dropout)          (None, 32, 32, 64)        0         \n",
            "_________________________________________________________________\n",
            "flatten_1 (Flatten)          (None, 65536)             0         \n",
            "_________________________________________________________________\n",
            "dense_1 (Dense)              (None, 128)               8388736   \n",
            "_________________________________________________________________\n",
            "dropout_3 (Dropout)          (None, 128)               0         \n",
            "_________________________________________________________________\n",
            "dense_2 (Dense)              (None, 1)                 129       \n",
            "=================================================================\n",
            "Total params: 8,454,433\n",
            "Trainable params: 8,454,433\n",
            "Non-trainable params: 0\n",
            "_________________________________________________________________\n"
          ],
          "name": "stdout"
        }
      ]
    },
    {
      "cell_type": "code",
      "metadata": {
        "id": "hhbkAzz3ksgW",
        "colab_type": "code",
        "colab": {}
      },
      "source": [
        "# Compile the model\n",
        "model.compile(optimizer=model_params[scenario]['optimizer'],\n",
        "              loss=\"binary_crossentropy\",\n",
        "              metrics=[km.binary_recall(), km.binary_precision()])"
      ],
      "execution_count": 0,
      "outputs": []
    },
    {
      "cell_type": "code",
      "metadata": {
        "id": "UHzVDk3pksgd",
        "colab_type": "code",
        "colab": {}
      },
      "source": [
        "# With data augmentation to prevent overfitting \n",
        "datagen = ImageDataGenerator(\n",
        "        featurewise_center=False,  # set input mean to 0 over the dataset\n",
        "        samplewise_center=False,  # set each sample mean to 0\n",
        "        featurewise_std_normalization=False,  # divide inputs by std of the dataset\n",
        "        samplewise_std_normalization=False,  # divide each input by its std\n",
        "        zca_whitening=False,  # apply ZCA whitening\n",
        "        rotation_range=10,  # randomly rotate images in the range (degrees, 0 to 180)\n",
        "        zoom_range = 0.1, # Randomly zoom image \n",
        "        width_shift_range=0.1,  # randomly shift images horizontally (fraction of total width)\n",
        "        height_shift_range=0.1,  # randomly shift images vertically (fraction of total height)\n",
        "        horizontal_flip=False,  # randomly flip images\n",
        "        vertical_flip=False)  # randomly flip images\n",
        "\n",
        "datagen.fit(datasets['Xtrain'])"
      ],
      "execution_count": 0,
      "outputs": []
    },
    {
      "cell_type": "code",
      "metadata": {
        "id": "_0D5PAuoksgf",
        "colab_type": "code",
        "outputId": "325a1d0e-af05-460e-dcb5-dbd707b144cd",
        "colab": {
          "base_uri": "https://localhost:8080/",
          "height": 400
        }
      },
      "source": [
        "history = model.fit_generator(datagen.flow(datasets['Xtrain'], datasets['Ytrain'],\n",
        "                                           batch_size=model_params[scenario]['batch_size']),\n",
        "                              epochs = model_params[scenario]['epochs'],\n",
        "                              validation_data = (datasets['Xvalid'],datasets['Yvalid']),\n",
        "                              verbose = 2, steps_per_epoch=datasets['Xtrain'].shape[0],\n",
        "                              class_weight=class_weight ,\n",
        "                              callbacks=model_params[scenario]['lrr'])\n",
        "\n",
        "pickle_out = open(hist_path,\"wb\")\n",
        "pickle.dump(history.history, pickle_out)\n",
        "pickle_out.close()"
      ],
      "execution_count": 0,
      "outputs": [
        {
          "output_type": "stream",
          "text": [
            "WARNING:tensorflow:From /usr/local/lib/python3.6/dist-packages/tensorflow/python/ops/math_ops.py:3066: to_int32 (from tensorflow.python.ops.math_ops) is deprecated and will be removed in a future version.\n",
            "Instructions for updating:\n",
            "Use tf.cast instead.\n",
            "Epoch 1/10\n",
            " - 324s - loss: 1.2331 - recall: 0.5068 - precision: 0.1082 - val_loss: 0.6936 - val_recall: 1.0000 - val_precision: 0.1113\n",
            "Epoch 2/10\n",
            " - 320s - loss: 1.2307 - recall: 0.4171 - precision: 0.1075 - val_loss: 0.6925 - val_recall: 0.0000e+00 - val_precision: 0.0000e+00\n",
            "Epoch 3/10\n",
            " - 320s - loss: 1.2315 - recall: 0.5025 - precision: 0.1074 - val_loss: 0.6946 - val_recall: 1.0000 - val_precision: 0.1113\n",
            "Epoch 4/10\n",
            " - 320s - loss: 1.2308 - recall: 0.4780 - precision: 0.1077 - val_loss: 0.6925 - val_recall: 0.0000e+00 - val_precision: 0.0000e+00\n",
            "Epoch 5/10\n",
            " - 320s - loss: 1.2305 - recall: 0.4242 - precision: 0.1078 - val_loss: 0.6911 - val_recall: 0.0000e+00 - val_precision: 0.0000e+00\n",
            "Epoch 6/10\n",
            " - 324s - loss: 1.2311 - recall: 0.4808 - precision: 0.1069 - val_loss: 0.6926 - val_recall: 0.0000e+00 - val_precision: 0.0000e+00\n",
            "Epoch 7/10\n",
            " - 322s - loss: 1.2314 - recall: 0.4469 - precision: 0.1082 - val_loss: 0.6953 - val_recall: 1.0000 - val_precision: 0.1113\n",
            "Epoch 8/10\n",
            " - 322s - loss: 1.2304 - recall: 0.4410 - precision: 0.1081 - val_loss: 0.6940 - val_recall: 1.0000 - val_precision: 0.1113\n",
            "Epoch 9/10\n",
            " - 323s - loss: 1.2312 - recall: 0.5175 - precision: 0.1088 - val_loss: 0.6931 - val_recall: 0.0000e+00 - val_precision: 0.0000e+00\n",
            "Epoch 10/10\n",
            " - 324s - loss: 1.2305 - recall: 0.5388 - precision: 0.1084 - val_loss: 0.6903 - val_recall: 0.0000e+00 - val_precision: 0.0000e+00\n"
          ],
          "name": "stdout"
        }
      ]
    },
    {
      "cell_type": "code",
      "metadata": {
        "id": "ULTP1q9qksgi",
        "colab_type": "code",
        "outputId": "c4f7cc13-0582-4af8-e74c-43e3f63f0c02",
        "colab": {
          "base_uri": "https://localhost:8080/",
          "height": 83
        }
      },
      "source": [
        "# get the test set stats\n",
        "loss, recall, precision = model.evaluate(datasets['Xtest'], datasets['Ytest'], verbose=1)\n",
        "\n",
        "# get the validation set stats\n",
        "loss_v, recall_v, precision_v = model.evaluate(datasets['Xvalid'], datasets['Yvalid'], verbose=1)\n",
        "print(\"Validation: sensitivity = %f ; precision = %f ; loss_v = %f\" % (recall_v, precision_v, loss_v,))\n",
        "print(\"Test: sensitivity = %f ; precision = %f ; loss = %f\" % (recall, precision, loss))\n",
        "model.save(model_path)"
      ],
      "execution_count": 0,
      "outputs": [
        {
          "output_type": "stream",
          "text": [
            "2003/2003 [==============================] - 2s 805us/step\n",
            "2003/2003 [==============================] - 1s 552us/step\n",
            "Validation: sensitivity = 0.000000 ; precision = 0.000000 ; loss_v = 0.690309\n",
            "Test: sensitivity = 0.000000 ; precision = 0.000000 ; loss = 0.690283\n"
          ],
          "name": "stdout"
        }
      ]
    },
    {
      "cell_type": "code",
      "metadata": {
        "id": "XXpwciaQP-9T",
        "colab_type": "code",
        "outputId": "c70e2811-8ecd-4709-c69e-ddc7b256d4fe",
        "colab": {
          "base_uri": "https://localhost:8080/",
          "height": 311
        }
      },
      "source": [
        "# # Function to plot confusion matrix    \n",
        "def plot_confusion_matrix(cm,\n",
        "                          classes,\n",
        "                          normalize=False,\n",
        "                          title='Confusion matrix',\n",
        "                          cmap=plt.cm.Blues\n",
        "                         ):\n",
        "    \"\"\"\n",
        "    This function prints and plots the confusion matrix.\n",
        "    Normalization can be applied by setting `normalize=True`.\n",
        "    \"\"\"\n",
        "    plt.imshow(cm, interpolation='nearest', cmap=cmap)\n",
        "    plt.title(title)\n",
        "    plt.colorbar()\n",
        "    tick_marks = np.arange(len(classes))\n",
        "    plt.xticks(tick_marks, classes, rotation=45)\n",
        "    plt.yticks(tick_marks, classes)\n",
        "\n",
        "    if normalize:\n",
        "        cm = cm.astype('float') / cm.sum(axis=1)[:, np.newaxis]\n",
        "\n",
        "    thresh = cm.max() / 2.\n",
        "    for i, j in itertools.product(range(cm.shape[0]), range(cm.shape[1])):\n",
        "        plt.text(j, i, cm[i, j],\n",
        "                 horizontalalignment=\"center\",\n",
        "                 color=\"white\" if cm[i, j] > thresh else \"black\")\n",
        "\n",
        "    plt.tight_layout()\n",
        "    plt.ylabel('True label')\n",
        "    plt.xlabel('Predicted label')\n",
        "\n",
        "# Predict the values from the validation dataset\n",
        "sigmoid = model.predict(datasets['Xtest'])\n",
        "\n",
        "# use 0.5 as the threshold\n",
        "Y_pred = np.zeros(sigmoid.shape)\n",
        "Y_pred[sigmoid >= 0.5] = 1\n",
        "Y_pred = Y_pred[:, 0]\n",
        "Y_true = datasets['Ytest']\n",
        "confusion_mtx = confusion_matrix(Y_true, Y_pred)\n",
        " \n",
        "# plot the confusion matrix\n",
        "plot_confusion_matrix(confusion_mtx, classes = range(2))"
      ],
      "execution_count": 0,
      "outputs": [
        {
          "output_type": "display_data",
          "data": {
            "image/png": "[encoded data removed]",
            "text/plain": [
              "<Figure size 432x288 with 2 Axes>"
            ]
          },
          "metadata": {
            "tags": []
          }
        }
      ]
    },
    {
      "cell_type": "code",
      "metadata": {
        "id": "apXoBcF1QNw0",
        "colab_type": "code",
        "outputId": "afea0ae3-92d6-42d6-8467-4e800d450b66",
        "colab": {
          "base_uri": "https://localhost:8080/",
          "height": 298
        }
      },
      "source": [
        "label_frac_error = 1 - np.diag(confusion_mtx) / np.sum(confusion_mtx, axis=1)\n",
        "plt.bar(np.arange(2),label_frac_error)\n",
        "plt.xlabel('True Label')\n",
        "plt.ylabel('Fraction classified incorrectly')"
      ],
      "execution_count": 0,
      "outputs": [
        {
          "output_type": "execute_result",
          "data": {
            "text/plain": [
              "Text(0, 0.5, 'Fraction classified incorrectly')"
            ]
          },
          "metadata": {
            "tags": []
          },
          "execution_count": 12
        },
        {
          "output_type": "display_data",
          "data": {
            "image/png": "[encoded data removed]",
            "text/plain": [
              "<Figure size 432x288 with 1 Axes>"
            ]
          },
          "metadata": {
            "tags": []
          }
        }
      ]
    },
    {
      "cell_type": "code",
      "metadata": {
        "id": "9FNqva_SU0l-",
        "colab_type": "code",
        "colab": {}
      },
      "source": [
        ""
      ],
      "execution_count": 0,
      "outputs": []
    }
  ]
}