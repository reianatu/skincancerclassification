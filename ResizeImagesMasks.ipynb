{
 "cells": [
  {
   "cell_type": "code",
   "execution_count": 1,
   "metadata": {
    "collapsed": true
   },
   "outputs": [],
   "source": [
    "from PIL import Image\n",
    "import numpy as np\n",
    "import os"
   ]
  },
  {
   "cell_type": "markdown",
   "metadata": {},
   "source": [
    "Just to resize and create new small and square images for training"
   ]
  },
  {
   "cell_type": "code",
   "execution_count": 8,
   "metadata": {
    "collapsed": true
   },
   "outputs": [],
   "source": [
    "def crop_resize(img, new_size):\n",
    "    '''\n",
    "    takes a PIL image\n",
    "    '''\n",
    "    # get the current size, pad to be square\n",
    "    # make square\n",
    "    ia = np.array(img)\n",
    "    small_side = min(ia.shape[:2])\n",
    "    \n",
    "    # get the biggest dim\n",
    "    bigdim = list(ia.shape).index(max(ia.shape))\n",
    "    \n",
    "    # calculate the resizing\n",
    "    cropi = (ia.shape[bigdim] - small_side) / 2.0\n",
    "    \n",
    "    if bigdim == 0:\n",
    "        img = img.crop((0, cropi, ia.shape[1], ia.shape[0] - cropi))\n",
    "    else:\n",
    "        img = img.crop((cropi, 0, ia.shape[1] - cropi, ia.shape[0]))\n",
    "    \n",
    "    # then return the resized image\n",
    "    return img.resize(new_size)"
   ]
  },
  {
   "cell_type": "code",
   "execution_count": 9,
   "metadata": {},
   "outputs": [
    {
     "name": "stdout",
     "output_type": "stream",
     "text": [
      "2594\n"
     ]
    }
   ],
   "source": [
    "images = os.listdir('images')\n",
    "examples = len(images)\n",
    "print(examples)\n",
    "\n",
    "# we need to make them all the same size\n",
    "new_size = (128, 128)\n",
    "idx = 0\n",
    "for img in images:\n",
    "    try:\n",
    "        # get the original image\n",
    "        with Image.open(os.path.join(r'images', img)) as original:        \n",
    "            # make the image smaller and append to the list\n",
    "            small = crop_resize(original, new_size)\n",
    "            small.save(os.path.join(r'small_images', img))\n",
    "        \n",
    "        # now get the corresponding mask and append to the Y_list\n",
    "        mfnm = os.path.splitext(img)[0] + '_segmentation.png'            \n",
    "        with Image.open(os.path.join(r'masks', mfnm)) as mask:\n",
    "            small_mask = crop_resize(mask, new_size)\n",
    "            small_mask.save(os.path.join(r'small_masks', mfnm))\n",
    "            \n",
    "    except Exception as e:\n",
    "        break"
   ]
  },
  {
   "cell_type": "code",
   "execution_count": null,
   "metadata": {
    "collapsed": true
   },
   "outputs": [],
   "source": []
  }
 ],
 "metadata": {
  "kernelspec": {
   "display_name": "Python 2",
   "language": "python",
   "name": "python2"
  },
  "language_info": {
   "codemirror_mode": {
    "name": "ipython",
    "version": 2
   },
   "file_extension": ".py",
   "mimetype": "text/x-python",
   "name": "python",
   "nbconvert_exporter": "python",
   "pygments_lexer": "ipython2",
   "version": "2.7.13"
  }
 },
 "nbformat": 4,
 "nbformat_minor": 2
}
