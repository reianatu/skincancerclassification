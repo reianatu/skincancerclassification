{
 "cells": [
  {
   "cell_type": "code",
   "execution_count": 1,
   "metadata": {
    "collapsed": true
   },
   "outputs": [],
   "source": [
    "import matplotlib.pyplot as plt\n",
    "from matplotlib.pyplot import imshow\n",
    "import seaborn as sns\n",
    "import os\n",
    "import numpy as np\n",
    "import pandas as pd\n",
    "from PIL import Image"
   ]
  },
  {
   "cell_type": "markdown",
   "metadata": {
    "collapsed": true
   },
   "source": [
    "Get a list of the image files and randomly pick some images"
   ]
  },
  {
   "cell_type": "code",
   "execution_count": 2,
   "metadata": {
    "collapsed": true
   },
   "outputs": [],
   "source": [
    "def crop_resize(img, new_size, crop=448):\n",
    "    '''\n",
    "    takes a PIL image and centre crops based on crop and resizes to new size \n",
    "    '''\n",
    "    # get the current size, pad to be square\n",
    "    # make square 448x448 square\n",
    "    ia = np.array(img)    \n",
    "    left = (ia.shape[1] - crop)/2.0\n",
    "    upper = (ia.shape[0] - crop)/2.0\n",
    "    \n",
    "    # box = left, upper, right, and lower\n",
    "    box = (left, upper, ia.shape[1] - left, ia.shape[0] - upper)\n",
    "    img = img.crop(box)\n",
    "    \n",
    "    # resize and return\n",
    "    return img.resize(new_size)"
   ]
  },
  {
   "cell_type": "markdown",
   "metadata": {},
   "source": [
    "## Crop and resize the images and save as a numpy file"
   ]
  },
  {
   "cell_type": "markdown",
   "metadata": {},
   "source": [
    "Get the image and do stuff"
   ]
  },
  {
   "cell_type": "code",
   "execution_count": 11,
   "metadata": {},
   "outputs": [
    {
     "name": "stdout",
     "output_type": "stream",
     "text": [
      "10%, 20%, 30%, 40%, 50%, 60%, 70%, 80%, 90%, 100%, "
     ]
    },
    {
     "data": {
      "text/plain": [
       "(0,)"
      ]
     },
     "execution_count": 11,
     "metadata": {},
     "output_type": "execute_result"
    }
   ],
   "source": [
    "# read from the meta data so that the array is in the same order as the dataset\n",
    "img_path = r'datasets\\images'\n",
    "image_files = pd.read_csv('datasets\\HAM10000_metadata.csv')['image_id'] + '.jpg'\n",
    "\n",
    "# get images for plotting\n",
    "new_size = 128, 128\n",
    "images = []\n",
    "idx = 1\n",
    "for fnm in image_files:\n",
    "    img = Image.open(os.path.join(img_path, fnm))\n",
    "    resized = np.array(crop_resize(img, new_size, crop=450))\n",
    "    images.append(resized)\n",
    "    if idx % 1000 == 0:\n",
    "        print('{:.0%}'.format(float(idx)/len(image_files)), end=', ')\n",
    "    idx += 1\n",
    "images = np.array(images)\n",
    "images.shape"
   ]
  },
  {
   "cell_type": "code",
   "execution_count": 10,
   "metadata": {
    "collapsed": true
   },
   "outputs": [],
   "source": [
    "# save the result as a numpy array\n",
    "np.save(r'datasets\\resized.npy', images)"
   ]
  }
 ],
 "metadata": {
  "kernelspec": {
   "display_name": "Python 3",
   "language": "python",
   "name": "python3"
  },
  "language_info": {
   "codemirror_mode": {
    "name": "ipython",
    "version": 3
   },
   "file_extension": ".py",
   "mimetype": "text/x-python",
   "name": "python",
   "nbconvert_exporter": "python",
   "pygments_lexer": "ipython3",
   "version": "3.7.2"
  }
 },
 "nbformat": 4,
 "nbformat_minor": 2
}
