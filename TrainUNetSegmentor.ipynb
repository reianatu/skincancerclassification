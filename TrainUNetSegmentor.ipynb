{
  "nbformat": 4,
  "nbformat_minor": 0,
  "metadata": {
    "colab": {
      "name": "TrainUNetSegmentor.ipynb",
      "version": "0.3.2",
      "provenance": [],
      "collapsed_sections": []
    },
    "language_info": {
      "codemirror_mode": {
        "name": "ipython",
        "version": 3
      },
      "file_extension": ".py",
      "mimetype": "text/x-python",
      "name": "python",
      "nbconvert_exporter": "python",
      "pygments_lexer": "ipython3",
      "version": "3.7.2"
    },
    "kernelspec": {
      "name": "python3",
      "display_name": "Python 3"
    },
    "accelerator": "GPU"
  },
  "cells": [
    {
      "cell_type": "markdown",
      "metadata": {
        "id": "dK794hBfhsx7",
        "colab_type": "text"
      },
      "source": [
        "https://github.com/qubvel/segmentation_models"
      ]
    },
    {
      "cell_type": "code",
      "metadata": {
        "id": "gqNJGLFmHEtA",
        "colab_type": "code",
        "outputId": "daeb7bbc-9f03-4b73-f7d3-cd1ee4817cdc",
        "colab": {
          "base_uri": "https://localhost:8080/",
          "height": 595
        }
      },
      "source": [
        "!pip install git+https://github.com/qubvel/segmentation_models.git"
      ],
      "execution_count": 0,
      "outputs": [
        {
          "output_type": "stream",
          "text": [
            "Collecting git+https://github.com/qubvel/segmentation_models.git\n",
            "  Cloning https://github.com/qubvel/segmentation_models.git to /tmp/pip-req-build-k69vtg38\n",
            "  Running command git clone -q https://github.com/qubvel/segmentation_models.git /tmp/pip-req-build-k69vtg38\n",
            "  Running command git submodule update --init --recursive -q\n",
            "Requirement already satisfied: keras>=2.2.0 in /usr/local/lib/python3.6/dist-packages (from segmentation-models==0.2.1) (2.2.4)\n",
            "Requirement already satisfied: keras_applications>=1.0.7 in /usr/local/lib/python3.6/dist-packages (from segmentation-models==0.2.1) (1.0.7)\n",
            "Requirement already satisfied: scikit-image in /usr/local/lib/python3.6/dist-packages (from segmentation-models==0.2.1) (0.15.0)\n",
            "Collecting image-classifiers==0.2.0 (from segmentation-models==0.2.1)\n",
            "\u001b[?25l  Downloading https://files.pythonhosted.org/packages/de/32/a1e74e03f74506d1e4b46bb2732ca5a7b18ac52a36b5e3547e63537ce74c/image_classifiers-0.2.0-py2.py3-none-any.whl (76kB)\n",
            "\u001b[K     |████████████████████████████████| 81kB 9.4MB/s \n",
            "\u001b[?25hRequirement already satisfied: h5py in /usr/local/lib/python3.6/dist-packages (from keras>=2.2.0->segmentation-models==0.2.1) (2.8.0)\n",
            "Requirement already satisfied: numpy>=1.9.1 in /usr/local/lib/python3.6/dist-packages (from keras>=2.2.0->segmentation-models==0.2.1) (1.16.4)\n",
            "Requirement already satisfied: keras-preprocessing>=1.0.5 in /usr/local/lib/python3.6/dist-packages (from keras>=2.2.0->segmentation-models==0.2.1) (1.0.9)\n",
            "Requirement already satisfied: six>=1.9.0 in /usr/local/lib/python3.6/dist-packages (from keras>=2.2.0->segmentation-models==0.2.1) (1.12.0)\n",
            "Requirement already satisfied: pyyaml in /usr/local/lib/python3.6/dist-packages (from keras>=2.2.0->segmentation-models==0.2.1) (3.13)\n",
            "Requirement already satisfied: scipy>=0.14 in /usr/local/lib/python3.6/dist-packages (from keras>=2.2.0->segmentation-models==0.2.1) (1.3.0)\n",
            "Requirement already satisfied: matplotlib!=3.0.0,>=2.0.0 in /usr/local/lib/python3.6/dist-packages (from scikit-image->segmentation-models==0.2.1) (3.0.3)\n",
            "Requirement already satisfied: imageio>=2.0.1 in /usr/local/lib/python3.6/dist-packages (from scikit-image->segmentation-models==0.2.1) (2.4.1)\n",
            "Requirement already satisfied: networkx>=2.0 in /usr/local/lib/python3.6/dist-packages (from scikit-image->segmentation-models==0.2.1) (2.3)\n",
            "Requirement already satisfied: pillow>=4.3.0 in /usr/local/lib/python3.6/dist-packages (from scikit-image->segmentation-models==0.2.1) (4.3.0)\n",
            "Requirement already satisfied: PyWavelets>=0.4.0 in /usr/local/lib/python3.6/dist-packages (from scikit-image->segmentation-models==0.2.1) (1.0.3)\n",
            "Requirement already satisfied: pyparsing!=2.0.4,!=2.1.2,!=2.1.6,>=2.0.1 in /usr/local/lib/python3.6/dist-packages (from matplotlib!=3.0.0,>=2.0.0->scikit-image->segmentation-models==0.2.1) (2.4.0)\n",
            "Requirement already satisfied: cycler>=0.10 in /usr/local/lib/python3.6/dist-packages (from matplotlib!=3.0.0,>=2.0.0->scikit-image->segmentation-models==0.2.1) (0.10.0)\n",
            "Requirement already satisfied: kiwisolver>=1.0.1 in /usr/local/lib/python3.6/dist-packages (from matplotlib!=3.0.0,>=2.0.0->scikit-image->segmentation-models==0.2.1) (1.1.0)\n",
            "Requirement already satisfied: python-dateutil>=2.1 in /usr/local/lib/python3.6/dist-packages (from matplotlib!=3.0.0,>=2.0.0->scikit-image->segmentation-models==0.2.1) (2.5.3)\n",
            "Requirement already satisfied: decorator>=4.3.0 in /usr/local/lib/python3.6/dist-packages (from networkx>=2.0->scikit-image->segmentation-models==0.2.1) (4.4.0)\n",
            "Requirement already satisfied: olefile in /usr/local/lib/python3.6/dist-packages (from pillow>=4.3.0->scikit-image->segmentation-models==0.2.1) (0.46)\n",
            "Requirement already satisfied: setuptools in /usr/local/lib/python3.6/dist-packages (from kiwisolver>=1.0.1->matplotlib!=3.0.0,>=2.0.0->scikit-image->segmentation-models==0.2.1) (41.0.1)\n",
            "Building wheels for collected packages: segmentation-models\n",
            "  Building wheel for segmentation-models (setup.py) ... \u001b[?25l\u001b[?25hdone\n",
            "  Stored in directory: /tmp/pip-ephem-wheel-cache-7zp23pz9/wheels/d6/18/c4/340b3ee7253119ec907ec8cf93bd2c572ee9a75eedb183b2f8\n",
            "Successfully built segmentation-models\n",
            "Installing collected packages: image-classifiers, segmentation-models\n",
            "Successfully installed image-classifiers-0.2.0 segmentation-models-0.2.1\n"
          ],
          "name": "stdout"
        }
      ]
    },
    {
      "cell_type": "markdown",
      "metadata": {
        "id": "v_O-NS1Chsx-",
        "colab_type": "text"
      },
      "source": [
        "Get the data sets"
      ]
    },
    {
      "cell_type": "code",
      "metadata": {
        "id": "0dNgIh-mhsx_",
        "colab_type": "code",
        "colab": {}
      },
      "source": [
        "from PIL import Image\n",
        "import numpy as np\n",
        "import pandas as pd\n",
        "import os\n",
        "import matplotlib.pyplot as plt\n",
        "import h5py\n",
        "from skimage import img_as_float\n",
        "import random"
      ],
      "execution_count": 0,
      "outputs": []
    },
    {
      "cell_type": "code",
      "metadata": {
        "id": "JuysALSuh9i0",
        "colab_type": "code",
        "outputId": "d4d66b90-a0cf-49bd-b6d0-1311f6313ef3",
        "colab": {
          "base_uri": "https://localhost:8080/",
          "height": 122
        }
      },
      "source": [
        "# Load the Drive helper and mount\n",
        "from google.colab import drive\n",
        "drive.mount('/content/drive')\n",
        "img_path = r'/content/drive/My Drive/Colab Notebooks/datasets/small_images'\n",
        "msk_path = r'/content/drive/My Drive/Colab Notebooks/datasets/small_masks'"
      ],
      "execution_count": 0,
      "outputs": [
        {
          "output_type": "stream",
          "text": [
            "Go to this URL in a browser: https://accounts.google.com/o/oauth2/auth?client_id=947318989803-6bn6qk8qdgf4n4g3pfee6491hc0brc4i.apps.googleusercontent.com&redirect_uri=urn%3Aietf%3Awg%3Aoauth%3A2.0%3Aoob&scope=email%20https%3A%2F%2Fwww.googleapis.com%2Fauth%2Fdocs.test%20https%3A%2F%2Fwww.googleapis.com%2Fauth%2Fdrive%20https%3A%2F%2Fwww.googleapis.com%2Fauth%2Fdrive.photos.readonly%20https%3A%2F%2Fwww.googleapis.com%2Fauth%2Fpeopleapi.readonly&response_type=code\n",
            "\n",
            "Enter your authorization code:\n",
            "··········\n",
            "Mounted at /content/drive\n"
          ],
          "name": "stdout"
        }
      ]
    },
    {
      "cell_type": "code",
      "metadata": {
        "id": "vohYmyIkDkgz",
        "colab_type": "code",
        "outputId": "4b109014-ec77-4371-b663-fbc3cc8c5016",
        "colab": {
          "base_uri": "https://localhost:8080/",
          "height": 34
        }
      },
      "source": [
        "import tensorflow as tf\n",
        "tf.test.gpu_device_name()"
      ],
      "execution_count": 0,
      "outputs": [
        {
          "output_type": "execute_result",
          "data": {
            "text/plain": [
              "'/device:GPU:0'"
            ]
          },
          "metadata": {
            "tags": []
          },
          "execution_count": 4
        }
      ]
    },
    {
      "cell_type": "code",
      "metadata": {
        "id": "c2tgi83IhsyD",
        "colab_type": "code",
        "outputId": "f82733d9-81f5-4a67-8f1d-f2958ed52ff4",
        "colab": {
          "base_uri": "https://localhost:8080/",
          "height": 34
        }
      },
      "source": [
        "images = os.listdir(img_path)\n",
        "random.shuffle(images)\n",
        "\n",
        "# lists to store arrays\n",
        "X_list = []\n",
        "Y_list = []\n",
        "\n",
        "# we need to make them all the same size\n",
        "idx = 0\n",
        "for img in images:\n",
        "    try:\n",
        "        # get the original image\n",
        "        with Image.open(os.path.join(img_path, img)) as original:        \n",
        "            # make the image smaller and append to the list\n",
        "            X_list.append(np.array(img_as_float(original)))\n",
        "        \n",
        "        # get the corresponding mask and append to the Y_list\n",
        "        with Image.open(os.path.join(msk_path, os.path.splitext(img)[0] + '_segmentation.png')) as mask:\n",
        "            mask = np.array(img_as_float(mask))\n",
        "            temp = np.ndarray(list(mask.shape)+[1], dtype=float)\n",
        "            temp[:, :, 0] = mask\n",
        "            Y_list.append(temp)\n",
        "        \n",
        "        # display progress\n",
        "        if idx % 100 == 0:\n",
        "            print('{:.0%} . '.format(idx/float(len(images))), end=\"\")\n",
        "\n",
        "        idx += 1\n",
        "        \n",
        "    except Exception as e:\n",
        "        \n",
        "        print('whoopsie!', e)\n",
        "np.array(Y_list).shape"
      ],
      "execution_count": 0,
      "outputs": [
        {
          "output_type": "stream",
          "text": [
            "0% . 4% . 8% . 12% . 15% . 19% . 23% . 27% . 31% . 35% . 39% . 42% . 46% . 50% . 54% . 58% . 62% . 66% . 69% . 73% . 77% . 81% . 85% . 89% . 93% . 96% . "
          ],
          "name": "stdout"
        },
        {
          "output_type": "execute_result",
          "data": {
            "text/plain": [
              "(2594, 128, 128, 1)"
            ]
          },
          "metadata": {
            "tags": []
          },
          "execution_count": 6
        }
      ]
    },
    {
      "cell_type": "code",
      "metadata": {
        "id": "zU0xFRPRhsyH",
        "colab_type": "code",
        "outputId": "078fc1be-70f7-4cad-de2d-7f8b82178d40",
        "colab": {
          "base_uri": "https://localhost:8080/",
          "height": 238
        }
      },
      "source": [
        "# lets do an 60:20:20 split on training, validation and testing\n",
        "train = int(len(X_list)*0.6)\n",
        "valid = int(len(X_list)*0.8)\n",
        "X = np.array(X_list)\n",
        "\n",
        "print(X.shape)\n",
        "\n",
        "Y = np.array(Y_list)\n",
        "\n",
        "print(Y.shape)\n",
        "\n",
        "# get training, validation and test sets\n",
        "# inputs\n",
        "x_train = X[:train]\n",
        "x_val = X[train:valid]\n",
        "\n",
        "# labels\n",
        "y_train = Y[:train]\n",
        "y_val = Y[train:valid]\n",
        "\n",
        "# output the test sets to a csv\n",
        "test_images = pd.DataFrame(images[valid:], columns=['image'])\n",
        "test_images.to_csv(r'/content/drive/My Drive/Colab Notebooks/datasets/test_images.csv')\n",
        "test_images.head()"
      ],
      "execution_count": 0,
      "outputs": [
        {
          "output_type": "stream",
          "text": [
            "(2594, 128, 128, 3)\n",
            "(2594, 128, 128, 1)\n"
          ],
          "name": "stdout"
        },
        {
          "output_type": "execute_result",
          "data": {
            "text/html": [
              "<div>\n",
              "<style scoped>\n",
              "    .dataframe tbody tr th:only-of-type {\n",
              "        vertical-align: middle;\n",
              "    }\n",
              "\n",
              "    .dataframe tbody tr th {\n",
              "        vertical-align: top;\n",
              "    }\n",
              "\n",
              "    .dataframe thead th {\n",
              "        text-align: right;\n",
              "    }\n",
              "</style>\n",
              "<table border=\"1\" class=\"dataframe\">\n",
              "  <thead>\n",
              "    <tr style=\"text-align: right;\">\n",
              "      <th></th>\n",
              "      <th>image</th>\n",
              "    </tr>\n",
              "  </thead>\n",
              "  <tbody>\n",
              "    <tr>\n",
              "      <th>0</th>\n",
              "      <td>ISIC_0012278.jpg</td>\n",
              "    </tr>\n",
              "    <tr>\n",
              "      <th>1</th>\n",
              "      <td>ISIC_0011121.jpg</td>\n",
              "    </tr>\n",
              "    <tr>\n",
              "      <th>2</th>\n",
              "      <td>ISIC_0010015.jpg</td>\n",
              "    </tr>\n",
              "    <tr>\n",
              "      <th>3</th>\n",
              "      <td>ISIC_0014698.jpg</td>\n",
              "    </tr>\n",
              "    <tr>\n",
              "      <th>4</th>\n",
              "      <td>ISIC_0000397.jpg</td>\n",
              "    </tr>\n",
              "  </tbody>\n",
              "</table>\n",
              "</div>"
            ],
            "text/plain": [
              "              image\n",
              "0  ISIC_0012278.jpg\n",
              "1  ISIC_0011121.jpg\n",
              "2  ISIC_0010015.jpg\n",
              "3  ISIC_0014698.jpg\n",
              "4  ISIC_0000397.jpg"
            ]
          },
          "metadata": {
            "tags": []
          },
          "execution_count": 7
        }
      ]
    },
    {
      "cell_type": "code",
      "metadata": {
        "id": "hE1ndVJRhsyL",
        "colab_type": "code",
        "outputId": "bba44d83-01fe-4aa4-e89b-0936b24e9a6d",
        "colab": {
          "base_uri": "https://localhost:8080/",
          "height": 3978
        }
      },
      "source": [
        "from segmentation_models import Unet\n",
        "from segmentation_models.backbones import get_preprocessing\n",
        "from segmentation_models.losses import bce_jaccard_loss\n",
        "from segmentation_models.metrics import iou_score\n",
        "from keras.callbacks import ReduceLROnPlateau\n",
        "\n",
        "BACKBONE = 'resnet34'\n",
        "preprocess_input = get_preprocessing(BACKBONE)\n",
        "\n",
        "# load your data\n",
        "\n",
        "# preprocess input\n",
        "x_train = preprocess_input(x_train)\n",
        "x_val = preprocess_input(x_val)\n",
        "\n",
        "# define model\n",
        "model = Unet(BACKBONE, encoder_weights='imagenet')\n",
        "model.compile('Adam', loss=bce_jaccard_loss, metrics=[iou_score])\n",
        "\n",
        "# lets set a callback function to reduce the learning rate as the lass begins to plateau\n",
        "red_lrn = ReduceLROnPlateau(monitor='val_loss', factor=0.1, patience=5, verbose=1, mode='auto', min_delta=0.0001, cooldown=0, min_lr=0)\n",
        "\n",
        "# fit model\n",
        "history = model.fit(\n",
        "    x=x_train,\n",
        "    y=y_train,\n",
        "    batch_size=32,\n",
        "    epochs=100,\n",
        "    validation_data=(x_val, y_val),\n",
        "    callbacks=[red_lrn]\n",
        ")"
      ],
      "execution_count": 0,
      "outputs": [
        {
          "output_type": "stream",
          "text": [
            "Train on 1556 samples, validate on 519 samples\n",
            "Epoch 1/100\n",
            "1556/1556 [==============================] - 19s 12ms/step - loss: 0.8204 - iou_score: 0.4811 - val_loss: 0.8135 - val_iou_score: 0.6493\n",
            "Epoch 2/100\n",
            "1556/1556 [==============================] - 9s 6ms/step - loss: 0.5116 - iou_score: 0.6849 - val_loss: 0.6008 - val_iou_score: 0.7195\n",
            "Epoch 3/100\n",
            "1556/1556 [==============================] - 9s 6ms/step - loss: 0.4432 - iou_score: 0.7383 - val_loss: 0.5597 - val_iou_score: 0.7409\n",
            "Epoch 4/100\n",
            "1556/1556 [==============================] - 10s 6ms/step - loss: 0.4282 - iou_score: 0.7506 - val_loss: 0.7415 - val_iou_score: 0.6166\n",
            "Epoch 5/100\n",
            "1556/1556 [==============================] - 10s 6ms/step - loss: 0.4082 - iou_score: 0.7609 - val_loss: 0.4403 - val_iou_score: 0.7571\n",
            "Epoch 6/100\n",
            "1556/1556 [==============================] - 10s 6ms/step - loss: 0.3567 - iou_score: 0.7879 - val_loss: 0.4489 - val_iou_score: 0.7578\n",
            "Epoch 7/100\n",
            "1556/1556 [==============================] - 10s 6ms/step - loss: 0.3190 - iou_score: 0.8103 - val_loss: 0.4869 - val_iou_score: 0.7528\n",
            "Epoch 8/100\n",
            "1556/1556 [==============================] - 10s 6ms/step - loss: 0.3106 - iou_score: 0.8136 - val_loss: 0.4422 - val_iou_score: 0.7587\n",
            "Epoch 9/100\n",
            "1556/1556 [==============================] - 10s 6ms/step - loss: 0.3138 - iou_score: 0.8098 - val_loss: 0.4201 - val_iou_score: 0.7946\n",
            "Epoch 10/100\n",
            "1556/1556 [==============================] - 10s 6ms/step - loss: 0.2764 - iou_score: 0.8299 - val_loss: 0.4152 - val_iou_score: 0.7784\n",
            "Epoch 11/100\n",
            "1556/1556 [==============================] - 10s 6ms/step - loss: 0.2900 - iou_score: 0.8258 - val_loss: 0.5923 - val_iou_score: 0.7406\n",
            "Epoch 12/100\n",
            "1556/1556 [==============================] - 10s 6ms/step - loss: 0.3548 - iou_score: 0.7994 - val_loss: 0.5838 - val_iou_score: 0.7518\n",
            "Epoch 13/100\n",
            "1556/1556 [==============================] - 10s 6ms/step - loss: 0.3013 - iou_score: 0.8171 - val_loss: 0.4255 - val_iou_score: 0.7905\n",
            "Epoch 14/100\n",
            "1556/1556 [==============================] - 10s 6ms/step - loss: 0.2798 - iou_score: 0.8300 - val_loss: 0.4560 - val_iou_score: 0.7688\n",
            "Epoch 15/100\n",
            "1556/1556 [==============================] - 10s 6ms/step - loss: 0.2781 - iou_score: 0.8309 - val_loss: 0.4032 - val_iou_score: 0.7966\n",
            "Epoch 16/100\n",
            "1556/1556 [==============================] - 10s 6ms/step - loss: 0.2426 - iou_score: 0.8499 - val_loss: 0.3795 - val_iou_score: 0.8075\n",
            "Epoch 17/100\n",
            "1556/1556 [==============================] - 10s 6ms/step - loss: 0.2188 - iou_score: 0.8629 - val_loss: 0.3694 - val_iou_score: 0.8077\n",
            "Epoch 18/100\n",
            "1556/1556 [==============================] - 10s 6ms/step - loss: 0.2019 - iou_score: 0.8724 - val_loss: 0.3761 - val_iou_score: 0.8175\n",
            "Epoch 19/100\n",
            "1556/1556 [==============================] - 10s 6ms/step - loss: 0.2048 - iou_score: 0.8703 - val_loss: 0.4155 - val_iou_score: 0.8120\n",
            "Epoch 20/100\n",
            "1556/1556 [==============================] - 10s 6ms/step - loss: 0.1862 - iou_score: 0.8812 - val_loss: 0.4178 - val_iou_score: 0.7974\n",
            "Epoch 21/100\n",
            "1556/1556 [==============================] - 10s 6ms/step - loss: 0.1807 - iou_score: 0.8837 - val_loss: 0.3977 - val_iou_score: 0.8136\n",
            "Epoch 22/100\n",
            "1556/1556 [==============================] - 10s 6ms/step - loss: 0.1799 - iou_score: 0.8853 - val_loss: 0.4204 - val_iou_score: 0.8195\n",
            "\n",
            "Epoch 00022: ReduceLROnPlateau reducing learning rate to 0.00010000000474974513.\n",
            "Epoch 23/100\n",
            "1556/1556 [==============================] - 10s 6ms/step - loss: 0.1575 - iou_score: 0.8986 - val_loss: 0.3898 - val_iou_score: 0.8192\n",
            "Epoch 24/100\n",
            "1556/1556 [==============================] - 10s 6ms/step - loss: 0.1480 - iou_score: 0.9048 - val_loss: 0.3830 - val_iou_score: 0.8199\n",
            "Epoch 25/100\n",
            "1556/1556 [==============================] - 10s 6ms/step - loss: 0.1413 - iou_score: 0.9091 - val_loss: 0.3858 - val_iou_score: 0.8186\n",
            "Epoch 26/100\n",
            "1556/1556 [==============================] - 10s 6ms/step - loss: 0.1370 - iou_score: 0.9115 - val_loss: 0.3915 - val_iou_score: 0.8194\n",
            "Epoch 27/100\n",
            "1556/1556 [==============================] - 10s 6ms/step - loss: 0.1347 - iou_score: 0.9132 - val_loss: 0.3926 - val_iou_score: 0.8204\n",
            "\n",
            "Epoch 00027: ReduceLROnPlateau reducing learning rate to 1.0000000474974514e-05.\n",
            "Epoch 28/100\n",
            "1556/1556 [==============================] - 10s 6ms/step - loss: 0.1326 - iou_score: 0.9142 - val_loss: 0.3956 - val_iou_score: 0.8209\n",
            "Epoch 29/100\n",
            "1556/1556 [==============================] - 10s 6ms/step - loss: 0.1306 - iou_score: 0.9153 - val_loss: 0.3981 - val_iou_score: 0.8214\n",
            "Epoch 30/100\n",
            "1556/1556 [==============================] - 10s 6ms/step - loss: 0.1313 - iou_score: 0.9151 - val_loss: 0.3994 - val_iou_score: 0.8217\n",
            "Epoch 31/100\n",
            "1556/1556 [==============================] - 10s 6ms/step - loss: 0.1309 - iou_score: 0.9154 - val_loss: 0.4005 - val_iou_score: 0.8217\n",
            "Epoch 32/100\n",
            "1556/1556 [==============================] - 10s 6ms/step - loss: 0.1301 - iou_score: 0.9159 - val_loss: 0.4021 - val_iou_score: 0.8220\n",
            "\n",
            "Epoch 00032: ReduceLROnPlateau reducing learning rate to 1.0000000656873453e-06.\n",
            "Epoch 33/100\n",
            "1556/1556 [==============================] - 10s 6ms/step - loss: 0.1304 - iou_score: 0.9158 - val_loss: 0.4029 - val_iou_score: 0.8220\n",
            "Epoch 34/100\n",
            "1556/1556 [==============================] - 10s 6ms/step - loss: 0.1284 - iou_score: 0.9168 - val_loss: 0.4035 - val_iou_score: 0.8220\n",
            "Epoch 35/100\n",
            "1556/1556 [==============================] - 10s 6ms/step - loss: 0.1288 - iou_score: 0.9168 - val_loss: 0.4038 - val_iou_score: 0.8220\n",
            "Epoch 36/100\n",
            "1556/1556 [==============================] - 10s 6ms/step - loss: 0.1311 - iou_score: 0.9158 - val_loss: 0.4042 - val_iou_score: 0.8221\n",
            "Epoch 37/100\n",
            "1556/1556 [==============================] - 10s 6ms/step - loss: 0.1290 - iou_score: 0.9165 - val_loss: 0.4043 - val_iou_score: 0.8221\n",
            "\n",
            "Epoch 00037: ReduceLROnPlateau reducing learning rate to 1.0000001111620805e-07.\n",
            "Epoch 38/100\n",
            "1556/1556 [==============================] - 10s 6ms/step - loss: 0.1302 - iou_score: 0.9157 - val_loss: 0.4045 - val_iou_score: 0.8221\n",
            "Epoch 39/100\n",
            "1556/1556 [==============================] - 10s 6ms/step - loss: 0.1302 - iou_score: 0.9158 - val_loss: 0.4046 - val_iou_score: 0.8222\n",
            "Epoch 40/100\n",
            "1556/1556 [==============================] - 10s 6ms/step - loss: 0.1293 - iou_score: 0.9161 - val_loss: 0.4047 - val_iou_score: 0.8222\n",
            "Epoch 41/100\n",
            "1556/1556 [==============================] - 10s 6ms/step - loss: 0.1289 - iou_score: 0.9167 - val_loss: 0.4049 - val_iou_score: 0.8222\n",
            "Epoch 42/100\n",
            "1556/1556 [==============================] - 10s 6ms/step - loss: 0.1290 - iou_score: 0.9163 - val_loss: 0.4052 - val_iou_score: 0.8222\n",
            "\n",
            "Epoch 00042: ReduceLROnPlateau reducing learning rate to 1.000000082740371e-08.\n",
            "Epoch 43/100\n",
            "1556/1556 [==============================] - 10s 6ms/step - loss: 0.1286 - iou_score: 0.9166 - val_loss: 0.4050 - val_iou_score: 0.8222\n",
            "Epoch 44/100\n",
            "1556/1556 [==============================] - 10s 6ms/step - loss: 0.1288 - iou_score: 0.9165 - val_loss: 0.4047 - val_iou_score: 0.8222\n",
            "Epoch 45/100\n",
            "1556/1556 [==============================] - 10s 6ms/step - loss: 0.1295 - iou_score: 0.9162 - val_loss: 0.4047 - val_iou_score: 0.8221\n",
            "Epoch 46/100\n",
            "1556/1556 [==============================] - 10s 6ms/step - loss: 0.1283 - iou_score: 0.9171 - val_loss: 0.4048 - val_iou_score: 0.8222\n",
            "Epoch 47/100\n",
            "1556/1556 [==============================] - 10s 6ms/step - loss: 0.1290 - iou_score: 0.9164 - val_loss: 0.4047 - val_iou_score: 0.8221\n",
            "\n",
            "Epoch 00047: ReduceLROnPlateau reducing learning rate to 1.000000082740371e-09.\n",
            "Epoch 48/100\n",
            "1556/1556 [==============================] - 10s 6ms/step - loss: 0.1289 - iou_score: 0.9165 - val_loss: 0.4048 - val_iou_score: 0.8222\n",
            "Epoch 49/100\n",
            "1556/1556 [==============================] - 10s 6ms/step - loss: 0.1297 - iou_score: 0.9162 - val_loss: 0.4048 - val_iou_score: 0.8221\n",
            "Epoch 50/100\n",
            "1556/1556 [==============================] - 10s 6ms/step - loss: 0.1290 - iou_score: 0.9166 - val_loss: 0.4047 - val_iou_score: 0.8221\n",
            "Epoch 51/100\n",
            "1556/1556 [==============================] - 10s 6ms/step - loss: 0.1343 - iou_score: 0.9145 - val_loss: 0.4048 - val_iou_score: 0.8221\n",
            "Epoch 52/100\n",
            "1556/1556 [==============================] - 10s 6ms/step - loss: 0.1312 - iou_score: 0.9154 - val_loss: 0.4048 - val_iou_score: 0.8221\n",
            "\n",
            "Epoch 00052: ReduceLROnPlateau reducing learning rate to 1.000000082740371e-10.\n",
            "Epoch 53/100\n",
            "1556/1556 [==============================] - 10s 6ms/step - loss: 0.1281 - iou_score: 0.9172 - val_loss: 0.4047 - val_iou_score: 0.8221\n",
            "Epoch 54/100\n",
            "1556/1556 [==============================] - 10s 6ms/step - loss: 0.1286 - iou_score: 0.9167 - val_loss: 0.4046 - val_iou_score: 0.8221\n",
            "Epoch 55/100\n",
            "1556/1556 [==============================] - 10s 6ms/step - loss: 0.1290 - iou_score: 0.9166 - val_loss: 0.4047 - val_iou_score: 0.8221\n",
            "Epoch 56/100\n",
            "1556/1556 [==============================] - 10s 6ms/step - loss: 0.1291 - iou_score: 0.9163 - val_loss: 0.4049 - val_iou_score: 0.8222\n",
            "Epoch 57/100\n",
            "1556/1556 [==============================] - 10s 6ms/step - loss: 0.1284 - iou_score: 0.9170 - val_loss: 0.4048 - val_iou_score: 0.8221\n",
            "\n",
            "Epoch 00057: ReduceLROnPlateau reducing learning rate to 1.000000082740371e-11.\n",
            "Epoch 58/100\n",
            "1556/1556 [==============================] - 10s 6ms/step - loss: 0.1295 - iou_score: 0.9163 - val_loss: 0.4047 - val_iou_score: 0.8221\n",
            "Epoch 59/100\n",
            "1556/1556 [==============================] - 10s 6ms/step - loss: 0.1294 - iou_score: 0.9163 - val_loss: 0.4049 - val_iou_score: 0.8221\n",
            "Epoch 60/100\n",
            "1556/1556 [==============================] - 10s 6ms/step - loss: 0.1286 - iou_score: 0.9169 - val_loss: 0.4048 - val_iou_score: 0.8221\n",
            "Epoch 61/100\n",
            "1556/1556 [==============================] - 10s 6ms/step - loss: 0.1296 - iou_score: 0.9162 - val_loss: 0.4048 - val_iou_score: 0.8221\n",
            "Epoch 62/100\n",
            "1556/1556 [==============================] - 10s 6ms/step - loss: 0.1285 - iou_score: 0.9168 - val_loss: 0.4047 - val_iou_score: 0.8221\n",
            "\n",
            "Epoch 00062: ReduceLROnPlateau reducing learning rate to 1.000000082740371e-12.\n",
            "Epoch 63/100\n",
            "1556/1556 [==============================] - 10s 6ms/step - loss: 0.1285 - iou_score: 0.9168 - val_loss: 0.4045 - val_iou_score: 0.8221\n",
            "Epoch 64/100\n",
            "1556/1556 [==============================] - 10s 6ms/step - loss: 0.1288 - iou_score: 0.9167 - val_loss: 0.4045 - val_iou_score: 0.8221\n",
            "Epoch 65/100\n",
            "1556/1556 [==============================] - 10s 6ms/step - loss: 0.1302 - iou_score: 0.9162 - val_loss: 0.4047 - val_iou_score: 0.8221\n",
            "Epoch 66/100\n",
            "1556/1556 [==============================] - 10s 6ms/step - loss: 0.1306 - iou_score: 0.9157 - val_loss: 0.4047 - val_iou_score: 0.8221\n",
            "Epoch 67/100\n",
            "1556/1556 [==============================] - 10s 6ms/step - loss: 0.1307 - iou_score: 0.9158 - val_loss: 0.4047 - val_iou_score: 0.8221\n",
            "\n",
            "Epoch 00067: ReduceLROnPlateau reducing learning rate to 1.0000001044244145e-13.\n",
            "Epoch 68/100\n",
            "1556/1556 [==============================] - 10s 6ms/step - loss: 0.1292 - iou_score: 0.9163 - val_loss: 0.4048 - val_iou_score: 0.8221\n",
            "Epoch 69/100\n",
            "1556/1556 [==============================] - 10s 6ms/step - loss: 0.1282 - iou_score: 0.9169 - val_loss: 0.4048 - val_iou_score: 0.8221\n",
            "Epoch 70/100\n",
            "1556/1556 [==============================] - 10s 6ms/step - loss: 0.1300 - iou_score: 0.9160 - val_loss: 0.4047 - val_iou_score: 0.8221\n",
            "Epoch 71/100\n",
            "1556/1556 [==============================] - 10s 6ms/step - loss: 0.1304 - iou_score: 0.9159 - val_loss: 0.4049 - val_iou_score: 0.8222\n",
            "Epoch 72/100\n",
            "1556/1556 [==============================] - 10s 6ms/step - loss: 0.1294 - iou_score: 0.9158 - val_loss: 0.4047 - val_iou_score: 0.8221\n",
            "\n",
            "Epoch 00072: ReduceLROnPlateau reducing learning rate to 1.0000001179769417e-14.\n",
            "Epoch 73/100\n",
            "1556/1556 [==============================] - 10s 6ms/step - loss: 0.1291 - iou_score: 0.9166 - val_loss: 0.4046 - val_iou_score: 0.8221\n",
            "Epoch 74/100\n",
            "1556/1556 [==============================] - 10s 6ms/step - loss: 0.1319 - iou_score: 0.9152 - val_loss: 0.4047 - val_iou_score: 0.8221\n",
            "Epoch 75/100\n",
            "1556/1556 [==============================] - 10s 6ms/step - loss: 0.1305 - iou_score: 0.9159 - val_loss: 0.4049 - val_iou_score: 0.8221\n",
            "Epoch 76/100\n",
            "1556/1556 [==============================] - 10s 6ms/step - loss: 0.1309 - iou_score: 0.9158 - val_loss: 0.4047 - val_iou_score: 0.8221\n",
            "Epoch 77/100\n",
            "1556/1556 [==============================] - 10s 6ms/step - loss: 0.1280 - iou_score: 0.9172 - val_loss: 0.4046 - val_iou_score: 0.8221\n",
            "\n",
            "Epoch 00077: ReduceLROnPlateau reducing learning rate to 1.0000001518582595e-15.\n",
            "Epoch 78/100\n",
            "1556/1556 [==============================] - 10s 6ms/step - loss: 0.1298 - iou_score: 0.9160 - val_loss: 0.4047 - val_iou_score: 0.8221\n",
            "Epoch 79/100\n",
            "1556/1556 [==============================] - 10s 6ms/step - loss: 0.1289 - iou_score: 0.9165 - val_loss: 0.4049 - val_iou_score: 0.8222\n",
            "Epoch 80/100\n",
            "1556/1556 [==============================] - 10s 6ms/step - loss: 0.1292 - iou_score: 0.9165 - val_loss: 0.4049 - val_iou_score: 0.8221\n",
            "Epoch 81/100\n",
            "1556/1556 [==============================] - 10s 6ms/step - loss: 0.1298 - iou_score: 0.9163 - val_loss: 0.4048 - val_iou_score: 0.8221\n",
            "Epoch 82/100\n",
            "1556/1556 [==============================] - 10s 6ms/step - loss: 0.1292 - iou_score: 0.9164 - val_loss: 0.4048 - val_iou_score: 0.8221\n",
            "\n",
            "Epoch 00082: ReduceLROnPlateau reducing learning rate to 1.0000001095066122e-16.\n",
            "Epoch 83/100\n",
            "1556/1556 [==============================] - 10s 6ms/step - loss: 0.1292 - iou_score: 0.9165 - val_loss: 0.4048 - val_iou_score: 0.8221\n",
            "Epoch 84/100\n",
            "1556/1556 [==============================] - 10s 6ms/step - loss: 0.1280 - iou_score: 0.9173 - val_loss: 0.4046 - val_iou_score: 0.8221\n",
            "Epoch 85/100\n",
            "1556/1556 [==============================] - 10s 6ms/step - loss: 0.1312 - iou_score: 0.9153 - val_loss: 0.4048 - val_iou_score: 0.8221\n",
            "Epoch 86/100\n",
            "1556/1556 [==============================] - 10s 6ms/step - loss: 0.1285 - iou_score: 0.9167 - val_loss: 0.4048 - val_iou_score: 0.8221\n",
            "Epoch 87/100\n",
            "1556/1556 [==============================] - 10s 6ms/step - loss: 0.1294 - iou_score: 0.9164 - val_loss: 0.4048 - val_iou_score: 0.8221\n",
            "\n",
            "Epoch 00087: ReduceLROnPlateau reducing learning rate to 1.0000000830368326e-17.\n",
            "Epoch 88/100\n",
            "1556/1556 [==============================] - 10s 6ms/step - loss: 0.1293 - iou_score: 0.9162 - val_loss: 0.4048 - val_iou_score: 0.8222\n",
            "Epoch 89/100\n",
            "1556/1556 [==============================] - 10s 6ms/step - loss: 0.1292 - iou_score: 0.9164 - val_loss: 0.4049 - val_iou_score: 0.8222\n",
            "Epoch 90/100\n",
            "1556/1556 [==============================] - 10s 6ms/step - loss: 0.1303 - iou_score: 0.9160 - val_loss: 0.4051 - val_iou_score: 0.8222\n",
            "Epoch 91/100\n",
            "1556/1556 [==============================] - 10s 6ms/step - loss: 0.1312 - iou_score: 0.9155 - val_loss: 0.4051 - val_iou_score: 0.8222\n",
            "Epoch 92/100\n",
            "1556/1556 [==============================] - 10s 6ms/step - loss: 0.1296 - iou_score: 0.9163 - val_loss: 0.4051 - val_iou_score: 0.8222\n",
            "\n",
            "Epoch 00092: ReduceLROnPlateau reducing learning rate to 1.0000000664932204e-18.\n",
            "Epoch 93/100\n",
            "1556/1556 [==============================] - 10s 6ms/step - loss: 0.1296 - iou_score: 0.9162 - val_loss: 0.4050 - val_iou_score: 0.8221\n",
            "Epoch 94/100\n",
            "1556/1556 [==============================] - 10s 6ms/step - loss: 0.1320 - iou_score: 0.9151 - val_loss: 0.4051 - val_iou_score: 0.8222\n",
            "Epoch 95/100\n",
            "1556/1556 [==============================] - 10s 6ms/step - loss: 0.1306 - iou_score: 0.9159 - val_loss: 0.4048 - val_iou_score: 0.8222\n",
            "Epoch 96/100\n",
            "1556/1556 [==============================] - 10s 6ms/step - loss: 0.1297 - iou_score: 0.9162 - val_loss: 0.4049 - val_iou_score: 0.8222\n",
            "Epoch 97/100\n",
            "1556/1556 [==============================] - 10s 6ms/step - loss: 0.1312 - iou_score: 0.9156 - val_loss: 0.4047 - val_iou_score: 0.8221\n",
            "\n",
            "Epoch 00097: ReduceLROnPlateau reducing learning rate to 1.000000045813705e-19.\n",
            "Epoch 98/100\n",
            "1556/1556 [==============================] - 10s 6ms/step - loss: 0.1302 - iou_score: 0.9161 - val_loss: 0.4047 - val_iou_score: 0.8221\n",
            "Epoch 99/100\n",
            "1556/1556 [==============================] - 10s 6ms/step - loss: 0.1295 - iou_score: 0.9165 - val_loss: 0.4047 - val_iou_score: 0.8221\n",
            "Epoch 100/100\n",
            "1556/1556 [==============================] - 10s 6ms/step - loss: 0.1287 - iou_score: 0.9166 - val_loss: 0.4048 - val_iou_score: 0.8221\n"
          ],
          "name": "stdout"
        }
      ]
    },
    {
      "cell_type": "code",
      "metadata": {
        "id": "sxskil4ghsyO",
        "colab_type": "code",
        "colab": {}
      },
      "source": [
        "# model.save(r'/content/drive/My Drive/Colab Notebooks/models/segmentation/mole_seg.h5')"
      ],
      "execution_count": 0,
      "outputs": []
    },
    {
      "cell_type": "code",
      "metadata": {
        "id": "6EaMfiSOKjae",
        "colab_type": "code",
        "colab": {}
      },
      "source": [
        "def return_change(lr):\n",
        "    diff = [v0 - v1 for v0, v1 in zip(lr[:-1],lr[1:])]\n",
        "    changes = [0]\n",
        "    for i in range(len(diff)):\n",
        "        if diff[i] > 0.0:\n",
        "            changes.append(i)\n",
        "    return changes"
      ],
      "execution_count": 0,
      "outputs": []
    },
    {
      "cell_type": "code",
      "metadata": {
        "id": "NKTA6t9iyUTZ",
        "colab_type": "code",
        "colab": {}
      },
      "source": [
        "label_style = dict(horizontalalignment='left',\n",
        "                  verticalalignment='bottom',\n",
        "                  rotation=90, alpha=0.5, fontsize=12)\n",
        "line = dict(linewidth=0.5, linestyle='--', color='black', alpha=0.5)\n",
        "axis_style = dict()"
      ],
      "execution_count": 0,
      "outputs": []
    },
    {
      "cell_type": "code",
      "metadata": {
        "id": "WauTYFDOm-GX",
        "colab_type": "code",
        "outputId": "6289d3cd-e948-4e19-e8a6-f5712953ed28",
        "colab": {
          "base_uri": "https://localhost:8080/",
          "height": 441
        }
      },
      "source": [
        "import seaborn as sns\n",
        "from matplotlib.lines import Line2D\n",
        "\n",
        "# plot the validation loss and iou, include the learning rate reductions\n",
        "fig, ax = plt.subplots(figsize=[12,6])\n",
        "\n",
        "# validation values\n",
        "iou = history.history['val_iou_score']\n",
        "loss = history.history['val_loss']\n",
        "x = range(len(iou))\n",
        "\n",
        "# what are the unique learning rates and where do they occur? \n",
        "lr = history.history['lr']\n",
        "ulr = list(set(lr))\n",
        "ulr.sort(reverse=True)\n",
        "changes = return_change(lr)\n",
        "\n",
        "# create a line and a label for each change\n",
        "for chi, lr_ in zip(changes, ulr):\n",
        "    ax.add_line(Line2D([chi, chi], [0, 1], **line))\n",
        "    ax.text(chi + 0.5, 0.45, lr_, **label_style)\n",
        "    \n",
        "ax.add_line(Line2D([-1,-1], [-1,-1], label=\"Learning rate reduction\", **line))\n",
        "plt.ylim([0.25, 0.9])\n",
        "sns.lineplot(x=x, y=iou, label='IOU')\n",
        "sns.lineplot(x=x, y=loss, label='IOU X-Entropy loss')\n",
        "plt.ylim([0.25, 0.9])\n",
        "plt.xlim([-1, 100])\n",
        "plt.xlabel(\"Epochs\")\n",
        "plt.title(\"Segmentation model training history\")\n",
        "# plt.ylabel(\"IOU and Loss\")\n",
        "sns.despine()\n",
        "plt.tight_layout()\n",
        "plt.savefig(r'/content/drive/My Drive/Colab Notebooks/seg_history.jpg')"
      ],
      "execution_count": 0,
      "outputs": [
        {
          "output_type": "display_data",
          "data": {
            "image/png": "[encoded data removed]",
            "text/plain": [
              "<Figure size 864x432 with 1 Axes>"
            ]
          },
          "metadata": {
            "tags": []
          }
        }
      ]
    },
    {
      "cell_type": "code",
      "metadata": {
        "id": "5AMQ95bGtsMd",
        "colab_type": "code",
        "colab": {}
      },
      "source": [
        ""
      ],
      "execution_count": 0,
      "outputs": []
    }
  ]
}